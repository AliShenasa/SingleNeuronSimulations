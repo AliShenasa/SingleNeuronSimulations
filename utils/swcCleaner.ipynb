{
 "cells": [
  {
   "cell_type": "code",
   "execution_count": 16,
   "id": "fb91d918",
   "metadata": {},
   "outputs": [],
   "source": [
    "# 0 is not recognized as a valid section type in a swc file\n",
    "# This script replaces a section type of 0 to a 7 (custom type)\n",
    "\n",
    "infilename = 'DNa02.swc'\n",
    "outfilename = 'DNa02_clean.swc'\n",
    "with open(infilename) as infile, open(outfilename,'w') as outfile:\n",
    "    for index, line in enumerate(infile):\n",
    "        outline = line\n",
    "        if line.strip(): # check if line is empty\n",
    "            if line[0] != '#': # check if line is not a comment\n",
    "                splitline = line.split()\n",
    "                if int(splitline[1]) == 0: # Replace section type 0 with 7\n",
    "                    splitline[1] = \"1\"\n",
    "                if index >= 37-1:\n",
    "                    splitline[1] = \"2\"\n",
    "                outline = \" \".join(splitline) + \"\\n\"\n",
    "        outfile.write(outline)"
   ]
  }
 ],
 "metadata": {
  "kernelspec": {
   "display_name": "Python 3 (ipykernel)",
   "language": "python",
   "name": "python3"
  },
  "language_info": {
   "codemirror_mode": {
    "name": "ipython",
    "version": 3
   },
   "file_extension": ".py",
   "mimetype": "text/x-python",
   "name": "python",
   "nbconvert_exporter": "python",
   "pygments_lexer": "ipython3",
   "version": "3.8.13"
  }
 },
 "nbformat": 4,
 "nbformat_minor": 5
}
