{
 "cells": [
  {
   "cell_type": "markdown",
   "metadata": {},
   "source": [
    "## Cell Types Database\n",
    "\n",
    "This notebook demonstrates most of the features of the AllenSDK that help manipulate data in the Cell Types Database.  The main entry point will be through the `CellTypesCache` class.\n",
    "\n",
    "`CellTypesCache` is responsible for downloading Cell Types Database data to a standard directory structure on your hard drive.  If you use this class, you will not have to keep track of where your data lives, other than a root directory.\n",
    "\n",
    "Download this file in .ipynb format <a href='cell_types.ipynb'>here</a>."
   ]
  },
  {
   "cell_type": "code",
   "execution_count": 1,
   "metadata": {},
   "outputs": [
    {
     "name": "stderr",
     "output_type": "stream",
     "text": [
      "2022-07-11 13:17:11,372 allensdk.api.api.retrieve_file_over_http INFO     Downloading URL: http://api.brain-map.org/api/v2/well_known_file_download/491202878\n"
     ]
    }
   ],
   "source": [
    "from allensdk.core.cell_types_cache import CellTypesCache\n",
    "\n",
    "# Instantiate the CellTypesCache instance.  The manifest_file argument\n",
    "# tells it where to store the manifest, which is a JSON file that tracks\n",
    "# file paths.  If you supply a relative path it will go into your\n",
    "# current working directory\n",
    "ctc = CellTypesCache()\n",
    "\n",
    "# this saves the NWB file to 'cell_types/specimen_464212183/ephys.nwb'\n",
    "cell_specimen_id = 464212183\n",
    "data_set = ctc.get_ephys_data(cell_specimen_id)"
   ]
  },
  {
   "cell_type": "markdown",
   "metadata": {},
   "source": [
    "The `data_set` variable is an `NwbDataSet` instance, which has some methods we can use to access the injected current stimulus waveform and the voltage response waveform for all experimental sweeps.  Let's pull one sweep out and plot it."
   ]
  },
  {
   "cell_type": "code",
   "execution_count": 2,
   "metadata": {
    "scrolled": true
   },
   "outputs": [
    {
     "data": {
      "image/png": "[encoded data removed]",
      "text/plain": [
       "<Figure size 432x288 with 2 Axes>"
      ]
     },
     "metadata": {},
     "output_type": "display_data"
    }
   ],
   "source": [
    "%matplotlib inline\n",
    "import numpy as np\n",
    "import matplotlib.pyplot as plt\n",
    "\n",
    "sweep_number = 30\n",
    "sweep_data = data_set.get_sweep(sweep_number)\n",
    "\n",
    "index_range = sweep_data[\"index_range\"]\n",
    "i = sweep_data[\"stimulus\"][0:index_range[1]+1] # in A\n",
    "v = sweep_data[\"response\"][0:index_range[1]+1] # in V\n",
    "i *= 1e12 # to pA\n",
    "v *= 1e3 # to mV\n",
    "\n",
    "sampling_rate = sweep_data[\"sampling_rate\"] # in Hz\n",
    "t = np.arange(0, len(v)) * (1.0 / sampling_rate)\n",
    "\n",
    "plt.style.use('ggplot')\n",
    "fig, axes = plt.subplots(2, 1, sharex=True)\n",
    "axes[0].plot(t, v, color='black')\n",
    "axes[1].plot(t, i, color='gray')\n",
    "axes[0].set_ylabel(\"mV\")\n",
    "axes[1].set_ylabel(\"pA\")\n",
    "axes[1].set_xlabel(\"seconds\")\n",
    "plt.show()"
   ]
  },
  {
   "cell_type": "markdown",
   "metadata": {},
   "source": [
    "## Filtering Cells via Metadata\n",
    "\n",
    "Cell records in the Cell Types Database come with a large amount of metadata.  We have exposed the most commonly used of these are arguments to CellTypesCache.get_cells.  "
   ]
  },
  {
   "cell_type": "code",
   "execution_count": 3,
   "metadata": {
    "scrolled": true
   },
   "outputs": [
    {
     "name": "stdout",
     "output_type": "stream",
     "text": [
      "Total cells: 2333\n",
      "Mouse cells: 1920\n",
      "Human cells: 413\n",
      "Cells with reconstructions: 667\n",
      "Cre-positive cells: 1815\n",
      "Cre-negative cells with reconstructions: 38\n"
     ]
    }
   ],
   "source": [
    "from allensdk.core.cell_types_cache import CellTypesCache\n",
    "from allensdk.api.queries.cell_types_api import CellTypesApi\n",
    "from allensdk.core.cell_types_cache import ReporterStatus as RS\n",
    "\n",
    "# download all cells\n",
    "cells = ctc.get_cells()\n",
    "print(\"Total cells: %d\" % len(cells))\n",
    "\n",
    "# mouse cells\n",
    "cells = ctc.get_cells(species=[CellTypesApi.MOUSE])\n",
    "print(\"Mouse cells: %d\" % len(cells))\n",
    "\n",
    "# human cells\n",
    "cells = ctc.get_cells(species=[CellTypesApi.HUMAN])\n",
    "print(\"Human cells: %d\" % len(cells))\n",
    "\n",
    "# cells with reconstructions\n",
    "cells = ctc.get_cells(require_reconstruction = True)\n",
    "print(\"Cells with reconstructions: %d\" % len(cells))\n",
    "\n",
    "# all cre positive cells\n",
    "cells = ctc.get_cells(reporter_status = RS.POSITIVE)\n",
    "print(\"Cre-positive cells: %d\" % len(cells))\n",
    "\n",
    "# cre negative cells with reconstructions\n",
    "cells = ctc.get_cells(require_reconstruction = True, \n",
    "                      reporter_status = RS.NEGATIVE)\n",
    "print(\"Cre-negative cells with reconstructions: %d\" % len(cells))"
   ]
  },
  {
   "cell_type": "markdown",
   "metadata": {},
   "source": [
    "## Cell Morphology Reconstructions\n",
    "\n",
    "The Cell Types Database also contains 3D reconstructions of neuronal morphologies. The data are presented in the SWC format. We'll download a particular cell's reconstrution here.\n",
    "\n",
    "The AllenSDK contains a module that makes it easier to work with the SWC files. We'll see how the data is contained in the file by looking at the first node."
   ]
  },
  {
   "cell_type": "code",
   "execution_count": 4,
   "metadata": {},
   "outputs": [
    {
     "name": "stderr",
     "output_type": "stream",
     "text": [
      "2022-07-11 13:17:41,312 allensdk.api.api.retrieve_file_over_http INFO     Downloading URL: http://api.brain-map.org/api/v2/well_known_file_download/491771448\n"
     ]
    },
    {
     "name": "stdout",
     "output_type": "stream",
     "text": [
      "{'children': [1,\n",
      "              1763,\n",
      "              2012,\n",
      "              2089,\n",
      "              2421,\n",
      "              2604,\n",
      "              2821,\n",
      "              3147,\n",
      "              3440,\n",
      "              3491,\n",
      "              3552,\n",
      "              4015],\n",
      " 'id': 0,\n",
      " 'parent': -1,\n",
      " 'radius': 7.6078,\n",
      " 'tree_id': 0,\n",
      " 'type': 1,\n",
      " 'x': 444.3296,\n",
      " 'y': 503.0168,\n",
      " 'z': 31.92}\n"
     ]
    }
   ],
   "source": [
    "import pprint\n",
    "\n",
    "# download and open an SWC file\n",
    "cell_id = 480114344\n",
    "morphology = ctc.get_reconstruction(cell_id) \n",
    "\n",
    "# the compartment list has all of the nodes in the file\n",
    "pprint.pprint(morphology.compartment_list[0])"
   ]
  },
  {
   "cell_type": "markdown",
   "metadata": {},
   "source": [
    "Note that the `type` field refers to the type of neuronal compartment. The values can be 1 for the soma, 2 for the axon, 3 for dendrites, and 4 for apical dendrites (if present).\n",
    "\n",
    "Morphologies now also come with marker files, which contains points of interest in the reconstruction.  The marker file contains locations where dendrites have been truncated due to slicing and when axons were not reconstructed.  The `name` field indicates the type of marker (10 for dendrite truncation, 20 for no reconstruction)."
   ]
  },
  {
   "cell_type": "code",
   "execution_count": 5,
   "metadata": {},
   "outputs": [
    {
     "name": "stderr",
     "output_type": "stream",
     "text": [
      "2022-07-11 13:17:59,530 allensdk.api.api.retrieve_file_over_http INFO     Downloading URL: http://api.brain-map.org/api/v2/well_known_file_download/496606365\n"
     ]
    },
    {
     "name": "stdout",
     "output_type": "stream",
     "text": [
      "{'name': 10, 'x': 527.5029999999999, 'y': 496.4319, 'z': 12.4555}\n"
     ]
    }
   ],
   "source": [
    "# download and open a marker file\n",
    "markers = ctc.get_reconstruction_markers(cell_id) \n",
    "pprint.pprint(markers[0])"
   ]
  },
  {
   "cell_type": "markdown",
   "metadata": {},
   "source": [
    "We can use this data to draw lines between each node and all its children to get a drawing of the cell. We'll do it looking at it from the front and from the side."
   ]
  },
  {
   "cell_type": "code",
   "execution_count": 7,
   "metadata": {},
   "outputs": [
    {
     "data": {
      "image/png": "[encoded data removed]",
      "text/plain": [
       "<Figure size 432x288 with 2 Axes>"
      ]
     },
     "metadata": {},
     "output_type": "display_data"
    }
   ],
   "source": [
    "from allensdk.core.swc import Marker\n",
    "fig, axes = plt.subplots(1, 2, sharey=True, sharex=True)\n",
    "axes[0].set_aspect('equal', 'box')\n",
    "axes[1].set_aspect('equal', 'box')\n",
    "\n",
    "# Make a line drawing of x-y and y-z views\n",
    "for n in morphology.compartment_list:\n",
    "    for c in morphology.children_of(n):\n",
    "        axes[0].plot([n['x'], c['x']], [n['y'], c['y']], color='black')\n",
    "        axes[1].plot([n['z'], c['z']], [n['y'], c['y']], color='black')\n",
    "\n",
    "# cut dendrite markers\n",
    "dm = [ m for m in markers if m['name'] == Marker.CUT_DENDRITE ]\n",
    "\n",
    "axes[0].scatter([m['x'] for m in dm], [m['y'] for m in dm], color='#3333ff')\n",
    "axes[1].scatter([m['z'] for m in dm], [m['y'] for m in dm], color='#3333ff')\n",
    "\n",
    "# no reconstruction markers\n",
    "nm = [ m for m in markers if m['name'] == Marker.NO_RECONSTRUCTION ]\n",
    "\n",
    "axes[0].scatter([m['x'] for m in nm], [m['y'] for m in nm], color='#333333')\n",
    "axes[1].scatter([m['z'] for m in nm], [m['y'] for m in nm], color='#333333')\n",
    "\n",
    "axes[0].set_ylabel('y')\n",
    "axes[0].set_xlabel('x')\n",
    "axes[1].set_xlabel('z')\n",
    "plt.show()"
   ]
  },
  {
   "cell_type": "markdown",
   "metadata": {},
   "source": [
    "## Electrophysiology Features\n",
    "\n",
    "The Cell Types Database contains a set of features that have already been computed, which could serve as good starting points for analysis. We can query the database using the SDK to get these features."
   ]
  },
  {
   "cell_type": "code",
   "execution_count": 8,
   "metadata": {},
   "outputs": [
    {
     "name": "stdout",
     "output_type": "stream",
     "text": [
      "Ephys. features available for 2333 cells\n"
     ]
    },
    {
     "data": {
      "text/html": [
       "<div>\n",
       "<style scoped>\n",
       "    .dataframe tbody tr th:only-of-type {\n",
       "        vertical-align: middle;\n",
       "    }\n",
       "\n",
       "    .dataframe tbody tr th {\n",
       "        vertical-align: top;\n",
       "    }\n",
       "\n",
       "    .dataframe thead th {\n",
       "        text-align: right;\n",
       "    }\n",
       "</style>\n",
       "<table border=\"1\" class=\"dataframe\">\n",
       "  <thead>\n",
       "    <tr style=\"text-align: right;\">\n",
       "      <th></th>\n",
       "      <th>adaptation</th>\n",
       "      <th>avg_isi</th>\n",
       "      <th>electrode_0_pa</th>\n",
       "      <th>f_i_curve_slope</th>\n",
       "      <th>fast_trough_t_long_square</th>\n",
       "      <th>fast_trough_t_ramp</th>\n",
       "      <th>fast_trough_t_short_square</th>\n",
       "      <th>fast_trough_v_long_square</th>\n",
       "      <th>fast_trough_v_ramp</th>\n",
       "      <th>fast_trough_v_short_square</th>\n",
       "      <th>...</th>\n",
       "      <th>trough_t_ramp</th>\n",
       "      <th>trough_t_short_square</th>\n",
       "      <th>trough_v_long_square</th>\n",
       "      <th>trough_v_ramp</th>\n",
       "      <th>trough_v_short_square</th>\n",
       "      <th>upstroke_downstroke_ratio_long_square</th>\n",
       "      <th>upstroke_downstroke_ratio_ramp</th>\n",
       "      <th>upstroke_downstroke_ratio_short_square</th>\n",
       "      <th>vm_for_sag</th>\n",
       "      <th>vrest</th>\n",
       "    </tr>\n",
       "  </thead>\n",
       "  <tbody>\n",
       "    <tr>\n",
       "      <th>1129</th>\n",
       "      <td>0.01066</td>\n",
       "      <td>50.912222</td>\n",
       "      <td>-73.090617</td>\n",
       "      <td>0.385991</td>\n",
       "      <td>1.243575</td>\n",
       "      <td>3.872615</td>\n",
       "      <td>1.025798</td>\n",
       "      <td>-58.406254</td>\n",
       "      <td>-56.364585</td>\n",
       "      <td>-61.026044</td>\n",
       "      <td>...</td>\n",
       "      <td>3.87297</td>\n",
       "      <td>1.273295</td>\n",
       "      <td>-58.59375</td>\n",
       "      <td>-56.635419</td>\n",
       "      <td>-65.729168</td>\n",
       "      <td>1.915684</td>\n",
       "      <td>2.045541</td>\n",
       "      <td>1.821178</td>\n",
       "      <td>-90.46875</td>\n",
       "      <td>-65.771713</td>\n",
       "    </tr>\n",
       "  </tbody>\n",
       "</table>\n",
       "<p>1 rows × 56 columns</p>\n",
       "</div>"
      ],
      "text/plain": [
       "      adaptation    avg_isi  electrode_0_pa  f_i_curve_slope  \\\n",
       "1129     0.01066  50.912222      -73.090617         0.385991   \n",
       "\n",
       "      fast_trough_t_long_square  fast_trough_t_ramp  \\\n",
       "1129                   1.243575            3.872615   \n",
       "\n",
       "      fast_trough_t_short_square  fast_trough_v_long_square  \\\n",
       "1129                    1.025798                 -58.406254   \n",
       "\n",
       "      fast_trough_v_ramp  fast_trough_v_short_square  ...  trough_t_ramp  \\\n",
       "1129          -56.364585                  -61.026044  ...        3.87297   \n",
       "\n",
       "      trough_t_short_square  trough_v_long_square  trough_v_ramp  \\\n",
       "1129               1.273295             -58.59375     -56.635419   \n",
       "\n",
       "      trough_v_short_square  upstroke_downstroke_ratio_long_square  \\\n",
       "1129             -65.729168                               1.915684   \n",
       "\n",
       "      upstroke_downstroke_ratio_ramp  upstroke_downstroke_ratio_short_square  \\\n",
       "1129                        2.045541                                1.821178   \n",
       "\n",
       "      vm_for_sag      vrest  \n",
       "1129   -90.46875 -65.771713  \n",
       "\n",
       "[1 rows x 56 columns]"
      ]
     },
     "execution_count": 8,
     "metadata": {},
     "output_type": "execute_result"
    }
   ],
   "source": [
    "import pandas as pd\n",
    "\n",
    "# download all electrophysiology features for all cells\n",
    "ephys_features = ctc.get_ephys_features()\n",
    "ef_df = pd.DataFrame(ephys_features)\n",
    "\n",
    "print(\"Ephys. features available for %d cells\" % len(ef_df))\n",
    "\n",
    "# filter down to a specific cell\n",
    "specimen_id = 464212183\n",
    "cell_ephys_features = ef_df[ef_df['specimen_id']== specimen_id]\n",
    "cell_ephys_features"
   ]
  },
  {
   "cell_type": "markdown",
   "metadata": {},
   "source": [
    "That's how to get all the ephys features for a given specimen - what if we want a particular feature for all cells?"
   ]
  },
  {
   "cell_type": "code",
   "execution_count": 9,
   "metadata": {},
   "outputs": [
    {
     "data": {
      "image/png": "[encoded data removed]",
      "text/plain": [
       "<Figure size 432x288 with 1 Axes>"
      ]
     },
     "metadata": {},
     "output_type": "display_data"
    }
   ],
   "source": [
    "plt.figure()\n",
    "plt.scatter(ef_df['fast_trough_v_long_square'], \n",
    "            ef_df['upstroke_downstroke_ratio_long_square'], color='#2ca25f')\n",
    "plt.ylabel(\"upstroke-downstroke ratio\")\n",
    "plt.xlabel(\"fast trough depth (mV)\")\n",
    "plt.show()"
   ]
  },
  {
   "cell_type": "markdown",
   "metadata": {},
   "source": [
    "Let's use numpy to fit a regression line to these data and plot it."
   ]
  },
  {
   "cell_type": "code",
   "execution_count": 10,
   "metadata": {},
   "outputs": [
    {
     "name": "stdout",
     "output_type": "stream",
     "text": [
      "First 5 rows of A:\n",
      "[[-56.37500381   1.        ]\n",
      " [-54.           1.        ]\n",
      " [-59.5          1.        ]\n",
      " [-47.53125      1.        ]\n",
      " [-48.43750381   1.        ]]\n",
      "m 0.10468807187601782 c 8.355078903861306\n"
     ]
    },
    {
     "data": {
      "image/png": "[encoded data removed]",
      "text/plain": [
       "<Figure size 432x288 with 1 Axes>"
      ]
     },
     "metadata": {},
     "output_type": "display_data"
    }
   ],
   "source": [
    "A = np.vstack([ef_df['fast_trough_v_long_square'], \n",
    "               np.ones_like(ef_df['upstroke_downstroke_ratio_long_square'])]).T\n",
    "\n",
    "print(\"First 5 rows of A:\")\n",
    "print(A[:5, :])\n",
    "\n",
    "m, c = np.linalg.lstsq(A, ef_df['upstroke_downstroke_ratio_long_square'], rcond=None)[0]\n",
    "print(\"m\", m, \"c\", c)\n",
    "\n",
    "plt.figure()\n",
    "plt.scatter(ef_df['fast_trough_v_long_square'], \n",
    "            ef_df['upstroke_downstroke_ratio_long_square'], \n",
    "            color='#2ca25f')\n",
    "plt.plot(ef_df['fast_trough_v_long_square'],\n",
    "         m * ef_df['fast_trough_v_long_square'] + c, c='gray')\n",
    "plt.ylabel(\"upstroke-downstroke ratio\")\n",
    "plt.xlabel(\"fast trough depth (mV)\")\n",
    "plt.show()"
   ]
  },
  {
   "cell_type": "markdown",
   "metadata": {},
   "source": [
    "It looks like there may be roughly two clusters in the data above. Maybe they relate to whether the cells are presumably excitatory (spiny) cells or inhibitory (aspiny) cells. Let's query the API and split up the two sets to see."
   ]
  },
  {
   "cell_type": "code",
   "execution_count": 11,
   "metadata": {},
   "outputs": [
    {
     "data": {
      "image/png": "[encoded data removed]",
      "text/plain": [
       "<Figure size 432x288 with 1 Axes>"
      ]
     },
     "metadata": {},
     "output_type": "display_data"
    }
   ],
   "source": [
    "cells = ctc.get_cells()\n",
    "\n",
    "# we want to add dendrite type as a column to the ephys. features dataframe\n",
    "# first build an index on cell specimen ID, then create array of dendrite types\n",
    "cell_index = { c['id']: c for c in cells }\n",
    "dendrite_types = [ cell_index[cid]['dendrite_type'] for cid in ef_df['specimen_id'] ]\n",
    "\n",
    "# now add the new column\n",
    "ef_df['dendrite_type'] = pd.Series(dendrite_types, index=ef_df.index)\n",
    "\n",
    "fig = plt.figure()\n",
    "\n",
    "for d_type, color in [ [\"spiny\", \"#d95f02\"], [\"aspiny\", \"#7570b3\"] ]:\n",
    "    df = ef_df[ef_df['dendrite_type'] == d_type]\n",
    "    plt.scatter(df['fast_trough_v_long_square'], \n",
    "                df['upstroke_downstroke_ratio_long_square'], \n",
    "                color=color, label=d_type)\n",
    "\n",
    "    plt.ylabel(\"upstroke-downstroke ratio\")\n",
    "    plt.xlabel(\"fast trough depth (mV)\")\n",
    "    plt.legend(loc='best')\n",
    "    \n",
    "plt.show()"
   ]
  },
  {
   "cell_type": "markdown",
   "metadata": {},
   "source": [
    "## Morphology Features\n",
    "\n",
    "The Cell Types Database contains a set of precomputed morphological features for cells that have reconstructions.  You can access morphology features by themselves, or combined with the electrophysiology features."
   ]
  },
  {
   "cell_type": "code",
   "execution_count": 12,
   "metadata": {},
   "outputs": [
    {
     "name": "stdout",
     "output_type": "stream",
     "text": [
      "All features available for 701 cells\n"
     ]
    },
    {
     "data": {
      "text/html": [
       "<div>\n",
       "<style scoped>\n",
       "    .dataframe tbody tr th:only-of-type {\n",
       "        vertical-align: middle;\n",
       "    }\n",
       "\n",
       "    .dataframe tbody tr th {\n",
       "        vertical-align: top;\n",
       "    }\n",
       "\n",
       "    .dataframe thead th {\n",
       "        text-align: right;\n",
       "    }\n",
       "</style>\n",
       "<table border=\"1\" class=\"dataframe\">\n",
       "  <thead>\n",
       "    <tr style=\"text-align: right;\">\n",
       "      <th></th>\n",
       "      <th>adaptation</th>\n",
       "      <th>avg_isi</th>\n",
       "      <th>electrode_0_pa</th>\n",
       "      <th>f_i_curve_slope</th>\n",
       "      <th>fast_trough_t_long_square</th>\n",
       "      <th>fast_trough_t_ramp</th>\n",
       "      <th>fast_trough_t_short_square</th>\n",
       "      <th>fast_trough_v_long_square</th>\n",
       "      <th>fast_trough_v_ramp</th>\n",
       "      <th>fast_trough_v_short_square</th>\n",
       "      <th>...</th>\n",
       "      <th>overall_width</th>\n",
       "      <th>scale_factor_x</th>\n",
       "      <th>scale_factor_y</th>\n",
       "      <th>scale_factor_z</th>\n",
       "      <th>soma_surface</th>\n",
       "      <th>superseded</th>\n",
       "      <th>tags</th>\n",
       "      <th>total_length</th>\n",
       "      <th>total_surface</th>\n",
       "      <th>total_volume</th>\n",
       "    </tr>\n",
       "  </thead>\n",
       "  <tbody>\n",
       "    <tr>\n",
       "      <th>0</th>\n",
       "      <td>NaN</td>\n",
       "      <td>134.700000</td>\n",
       "      <td>22.697498</td>\n",
       "      <td>8.335459e-02</td>\n",
       "      <td>1.18768</td>\n",
       "      <td>13.295200</td>\n",
       "      <td>1.025916</td>\n",
       "      <td>-56.375004</td>\n",
       "      <td>-57.385420</td>\n",
       "      <td>-57.431251</td>\n",
       "      <td>...</td>\n",
       "      <td>581.674568</td>\n",
       "      <td>0.1144</td>\n",
       "      <td>0.1144</td>\n",
       "      <td>0.28</td>\n",
       "      <td>444.247484</td>\n",
       "      <td>False</td>\n",
       "      <td>3D Neuron Reconstruction morphology</td>\n",
       "      <td>9995.218601</td>\n",
       "      <td>16666.213729</td>\n",
       "      <td>2355.765059</td>\n",
       "    </tr>\n",
       "    <tr>\n",
       "      <th>1</th>\n",
       "      <td>NaN</td>\n",
       "      <td>NaN</td>\n",
       "      <td>-24.887498</td>\n",
       "      <td>-3.913630e-19</td>\n",
       "      <td>1.09984</td>\n",
       "      <td>20.650105</td>\n",
       "      <td>1.025460</td>\n",
       "      <td>-54.000000</td>\n",
       "      <td>-54.828129</td>\n",
       "      <td>-54.656254</td>\n",
       "      <td>...</td>\n",
       "      <td>391.393464</td>\n",
       "      <td>0.1144</td>\n",
       "      <td>0.1144</td>\n",
       "      <td>0.28</td>\n",
       "      <td>1997.534304</td>\n",
       "      <td>False</td>\n",
       "      <td>3D Neuron Reconstruction morphology</td>\n",
       "      <td>6533.385774</td>\n",
       "      <td>13173.179026</td>\n",
       "      <td>2962.024123</td>\n",
       "    </tr>\n",
       "    <tr>\n",
       "      <th>2</th>\n",
       "      <td>0.044825</td>\n",
       "      <td>91.322222</td>\n",
       "      <td>-46.761876</td>\n",
       "      <td>2.238637e-01</td>\n",
       "      <td>1.19024</td>\n",
       "      <td>3.826338</td>\n",
       "      <td>1.025363</td>\n",
       "      <td>-44.937504</td>\n",
       "      <td>-43.635419</td>\n",
       "      <td>-47.395833</td>\n",
       "      <td>...</td>\n",
       "      <td>236.976305</td>\n",
       "      <td>0.1144</td>\n",
       "      <td>0.1144</td>\n",
       "      <td>0.28</td>\n",
       "      <td>522.952356</td>\n",
       "      <td>False</td>\n",
       "      <td>3D Neuron Reconstruction morphology</td>\n",
       "      <td>2067.805445</td>\n",
       "      <td>3180.344934</td>\n",
       "      <td>460.354199</td>\n",
       "    </tr>\n",
       "    <tr>\n",
       "      <th>3</th>\n",
       "      <td>0.002303</td>\n",
       "      <td>8.756140</td>\n",
       "      <td>-33.787497</td>\n",
       "      <td>6.366711e-01</td>\n",
       "      <td>1.72910</td>\n",
       "      <td>16.728967</td>\n",
       "      <td>1.023988</td>\n",
       "      <td>-60.968754</td>\n",
       "      <td>-63.145835</td>\n",
       "      <td>-66.856253</td>\n",
       "      <td>...</td>\n",
       "      <td>332.948545</td>\n",
       "      <td>0.1144</td>\n",
       "      <td>0.1144</td>\n",
       "      <td>0.28</td>\n",
       "      <td>76.604264</td>\n",
       "      <td>False</td>\n",
       "      <td>3D Neuron Reconstruction morphology</td>\n",
       "      <td>3488.103438</td>\n",
       "      <td>2371.871389</td>\n",
       "      <td>129.985840</td>\n",
       "    </tr>\n",
       "    <tr>\n",
       "      <th>4</th>\n",
       "      <td>0.093492</td>\n",
       "      <td>112.245000</td>\n",
       "      <td>3.015000</td>\n",
       "      <td>1.500000e-01</td>\n",
       "      <td>1.10920</td>\n",
       "      <td>5.458287</td>\n",
       "      <td>1.025020</td>\n",
       "      <td>-51.062504</td>\n",
       "      <td>-57.916670</td>\n",
       "      <td>-56.531254</td>\n",
       "      <td>...</td>\n",
       "      <td>374.603996</td>\n",
       "      <td>0.1144</td>\n",
       "      <td>0.1144</td>\n",
       "      <td>0.28</td>\n",
       "      <td>77.936062</td>\n",
       "      <td>False</td>\n",
       "      <td>3D Neuron Reconstruction morphology</td>\n",
       "      <td>2977.161146</td>\n",
       "      <td>2703.134880</td>\n",
       "      <td>204.115177</td>\n",
       "    </tr>\n",
       "  </tbody>\n",
       "</table>\n",
       "<p>5 rows × 85 columns</p>\n",
       "</div>"
      ],
      "text/plain": [
       "   adaptation     avg_isi  electrode_0_pa  f_i_curve_slope  \\\n",
       "0         NaN  134.700000       22.697498     8.335459e-02   \n",
       "1         NaN         NaN      -24.887498    -3.913630e-19   \n",
       "2    0.044825   91.322222      -46.761876     2.238637e-01   \n",
       "3    0.002303    8.756140      -33.787497     6.366711e-01   \n",
       "4    0.093492  112.245000        3.015000     1.500000e-01   \n",
       "\n",
       "   fast_trough_t_long_square  fast_trough_t_ramp  fast_trough_t_short_square  \\\n",
       "0                    1.18768           13.295200                    1.025916   \n",
       "1                    1.09984           20.650105                    1.025460   \n",
       "2                    1.19024            3.826338                    1.025363   \n",
       "3                    1.72910           16.728967                    1.023988   \n",
       "4                    1.10920            5.458287                    1.025020   \n",
       "\n",
       "   fast_trough_v_long_square  fast_trough_v_ramp  fast_trough_v_short_square  \\\n",
       "0                 -56.375004          -57.385420                  -57.431251   \n",
       "1                 -54.000000          -54.828129                  -54.656254   \n",
       "2                 -44.937504          -43.635419                  -47.395833   \n",
       "3                 -60.968754          -63.145835                  -66.856253   \n",
       "4                 -51.062504          -57.916670                  -56.531254   \n",
       "\n",
       "   ...  overall_width  scale_factor_x  scale_factor_y  scale_factor_z  \\\n",
       "0  ...     581.674568          0.1144          0.1144            0.28   \n",
       "1  ...     391.393464          0.1144          0.1144            0.28   \n",
       "2  ...     236.976305          0.1144          0.1144            0.28   \n",
       "3  ...     332.948545          0.1144          0.1144            0.28   \n",
       "4  ...     374.603996          0.1144          0.1144            0.28   \n",
       "\n",
       "   soma_surface  superseded                                 tags  \\\n",
       "0    444.247484       False  3D Neuron Reconstruction morphology   \n",
       "1   1997.534304       False  3D Neuron Reconstruction morphology   \n",
       "2    522.952356       False  3D Neuron Reconstruction morphology   \n",
       "3     76.604264       False  3D Neuron Reconstruction morphology   \n",
       "4     77.936062       False  3D Neuron Reconstruction morphology   \n",
       "\n",
       "   total_length  total_surface  total_volume  \n",
       "0   9995.218601   16666.213729   2355.765059  \n",
       "1   6533.385774   13173.179026   2962.024123  \n",
       "2   2067.805445    3180.344934    460.354199  \n",
       "3   3488.103438    2371.871389    129.985840  \n",
       "4   2977.161146    2703.134880    204.115177  \n",
       "\n",
       "[5 rows x 85 columns]"
      ]
     },
     "execution_count": 12,
     "metadata": {},
     "output_type": "execute_result"
    }
   ],
   "source": [
    "import pandas as pd\n",
    "\n",
    "# download all morphology features for cells with reconstructions\n",
    "morphology_features = ctc.get_morphology_features()\n",
    "\n",
    "# or download both morphology and ephys features\n",
    "all_features = ctc.get_all_features(require_reconstruction=True)\n",
    "\n",
    "# convert to a pandas DataFrame\n",
    "all_features = pd.DataFrame(all_features)\n",
    "print(\"All features available for %d cells\" % len(all_features))\n",
    "\n",
    "all_features.head()"
   ]
  },
  {
   "cell_type": "markdown",
   "metadata": {},
   "source": [
    "## Computing Electrophysiology Features\n",
    "\n",
    "The AllenSDK contains the code used to compute the electrophysiology features you accessed above.  You can run it yourself like this."
   ]
  },
  {
   "cell_type": "code",
   "execution_count": 13,
   "metadata": {},
   "outputs": [
    {
     "name": "stdout",
     "output_type": "stream",
     "text": [
      "Avg spike threshold: -35.5 mV\n",
      "Avg spike width: 0.94 ms\n"
     ]
    }
   ],
   "source": [
    "from allensdk.ephys.ephys_extractor import EphysSweepFeatureExtractor\n",
    "\n",
    "sweep_number = 35\n",
    "sweep_data = data_set.get_sweep(sweep_number)\n",
    "\n",
    "index_range = sweep_data[\"index_range\"]\n",
    "i = sweep_data[\"stimulus\"][0:index_range[1]+1] # in A\n",
    "v = sweep_data[\"response\"][0:index_range[1]+1] # in V\n",
    "i *= 1e12 # to pA\n",
    "v *= 1e3 # to mV\n",
    "\n",
    "sampling_rate = sweep_data[\"sampling_rate\"] # in Hz\n",
    "t = np.arange(0, len(v)) * (1.0 / sampling_rate)\n",
    "\n",
    "sweep_ext = EphysSweepFeatureExtractor(t=t, v=v, i=i, start=1.02, end=2.02)\n",
    "sweep_ext.process_spikes()\n",
    "\n",
    "print(\"Avg spike threshold: %.01f mV\" % sweep_ext.spike_feature(\"threshold_v\").mean())\n",
    "print(\"Avg spike width: %.02f ms\" %  (1e3 * np.nanmean(sweep_ext.spike_feature(\"width\"))))"
   ]
  },
  {
   "cell_type": "markdown",
   "metadata": {},
   "source": [
    "The method `spike_feature()` returns a NumPy array of features for each spike. You pass it the name of the feature that you want. Features that can't be calculated for a given spike are set to `NaN`. We can take a look at all the properties calculated for each spike by the extractor:"
   ]
  },
  {
   "cell_type": "code",
   "execution_count": 14,
   "metadata": {},
   "outputs": [
    {
     "data": {
      "text/plain": [
       "['threshold_index',\n",
       " 'clipped',\n",
       " 'threshold_t',\n",
       " 'threshold_v',\n",
       " 'threshold_i',\n",
       " 'peak_index',\n",
       " 'peak_t',\n",
       " 'peak_v',\n",
       " 'peak_i',\n",
       " 'trough_index',\n",
       " 'trough_t',\n",
       " 'trough_v',\n",
       " 'trough_i',\n",
       " 'upstroke_index',\n",
       " 'upstroke',\n",
       " 'upstroke_t',\n",
       " 'upstroke_v',\n",
       " 'downstroke_index',\n",
       " 'downstroke',\n",
       " 'downstroke_t',\n",
       " 'downstroke_v',\n",
       " 'isi_type',\n",
       " 'fast_trough_index',\n",
       " 'fast_trough_t',\n",
       " 'fast_trough_v',\n",
       " 'fast_trough_i',\n",
       " 'adp_index',\n",
       " 'adp_t',\n",
       " 'adp_v',\n",
       " 'adp_i',\n",
       " 'slow_trough_index',\n",
       " 'slow_trough_t',\n",
       " 'slow_trough_v',\n",
       " 'slow_trough_i',\n",
       " 'width',\n",
       " 'upstroke_downstroke_ratio']"
      ]
     },
     "execution_count": 14,
     "metadata": {},
     "output_type": "execute_result"
    }
   ],
   "source": [
    "sweep_ext.spike_feature_keys()"
   ]
  },
  {
   "cell_type": "markdown",
   "metadata": {},
   "source": [
    "We can look at when the spikes occur by looking at the `threshold_t` property (i.e., time of spike threshold)."
   ]
  },
  {
   "cell_type": "code",
   "execution_count": 15,
   "metadata": {},
   "outputs": [
    {
     "name": "stdout",
     "output_type": "stream",
     "text": [
      "[1.02811  1.040935 1.053675 1.068645 1.082835]\n"
     ]
    }
   ],
   "source": [
    "spike_times = sweep_ext.spike_feature(\"threshold_t\")\n",
    "\n",
    "print(spike_times[:5])  # print just the first 5 spike times"
   ]
  },
  {
   "cell_type": "markdown",
   "metadata": {},
   "source": [
    "We can see that the first spikes happen just after the stimulus step begins at 1.02 sec. Let's plot the voltage trace and then put a dot at the time of each spike detected by the extractor."
   ]
  },
  {
   "cell_type": "code",
   "execution_count": 16,
   "metadata": {},
   "outputs": [
    {
     "data": {
      "text/plain": [
       "(0.9, 1.2)"
      ]
     },
     "execution_count": 16,
     "metadata": {},
     "output_type": "execute_result"
    },
    {
     "data": {
      "image/png": "[encoded data removed]",
      "text/plain": [
       "<Figure size 432x288 with 1 Axes>"
      ]
     },
     "metadata": {},
     "output_type": "display_data"
    }
   ],
   "source": [
    "fig = plt.figure()\n",
    "p = plt.plot(t, v, color='black')\n",
    "\n",
    "min_v = v.min()\n",
    "\n",
    "v_level = min_v - 5\n",
    "\n",
    "plt.scatter(spike_times, np.ones(len(spike_times)) * min_v, c='firebrick')\n",
    "plt.xlim(0.9, 1.2)"
   ]
  },
  {
   "cell_type": "markdown",
   "metadata": {},
   "source": [
    "We could also get the threshold voltages from the extractor and put dots where the extractor thinks the spikes begin (zooming in a little more to see better):"
   ]
  },
  {
   "cell_type": "code",
   "execution_count": 17,
   "metadata": {},
   "outputs": [
    {
     "data": {
      "text/plain": [
       "(1.015, 1.08)"
      ]
     },
     "execution_count": 17,
     "metadata": {},
     "output_type": "execute_result"
    },
    {
     "data": {
      "image/png": "[encoded data removed]",
      "text/plain": [
       "<Figure size 432x288 with 1 Axes>"
      ]
     },
     "metadata": {},
     "output_type": "display_data"
    }
   ],
   "source": [
    "fig = plt.figure()\n",
    "plt.plot(t, v, color='black')\n",
    "\n",
    "threshold_v = sweep_ext.spike_feature(\"threshold_v\")\n",
    "\n",
    "# setting zorder puts the dots on top of the trace\n",
    "plt.scatter(spike_times, threshold_v, s=50, c='firebrick', zorder=20)\n",
    "plt.xlim(1.015, 1.08)"
   ]
  },
  {
   "cell_type": "code",
   "execution_count": null,
   "metadata": {},
   "outputs": [],
   "source": []
  }
 ],
 "metadata": {
  "kernelspec": {
   "display_name": "Python 3 (ipykernel)",
   "language": "python",
   "name": "python3"
  },
  "language_info": {
   "codemirror_mode": {
    "name": "ipython",
    "version": 3
   },
   "file_extension": ".py",
   "mimetype": "text/x-python",
   "name": "python",
   "nbconvert_exporter": "python",
   "pygments_lexer": "ipython3",
   "version": "3.8.13"
  }
 },
 "nbformat": 4,
 "nbformat_minor": 1
}
