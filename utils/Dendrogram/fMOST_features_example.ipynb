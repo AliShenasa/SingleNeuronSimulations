{
 "cells": [
  {
   "cell_type": "markdown",
   "metadata": {},
   "source": [
    "# How to extract features from fMOST data with [neuron_morphology](https://github.com/AllenInstitute/neuron_morphology)\n",
    "\n",
    "To obtain the package, please see [https://neuron-morphology.readthedocs.io/en/readthedocs/](https://neuron-morphology.readthedocs.io/en/readthedocs/).\n",
    "\n",
    "This step-by-step guide will walk you through the process of extracting features from fMOST data.\n",
    "* Load fMOST data from file\n",
    "* Clean up swc to prevent errors\n",
    "* Extract the neuron_morphology default_features\n",
    "* Add a custom feature to calculate as well\n"
   ]
  },
  {
   "cell_type": "code",
   "execution_count": 9,
   "metadata": {},
   "outputs": [],
   "source": [
    "import sys\n",
    "sys.path.insert(0, \"../\")\n",
    "\n",
    "from io import StringIO\n",
    "import copy\n",
    "import matplotlib.pyplot as plt\n",
    "\n",
    "import neuron_morphology.swc_io as swcio\n",
    "from neuron_morphology.morphology import Morphology\n",
    "from neuron_morphology.swc_io import morphology_from_swc\n",
    "from neuron_morphology.feature_extractor.data import Data\n",
    "from neuron_morphology.feature_extractor.feature_extractor import FeatureExtractor\n",
    "from neuron_morphology.features.default_features import default_features\n",
    "from neuron_morphology.constants import (\n",
    "    SOMA, AXON, BASAL_DENDRITE, APICAL_DENDRITE\n",
    ")\n",
    "\n",
    "import json\n",
    "import numpy as np\n",
    "import neuron_morphology.feature_extractor.feature_writer as fw"
   ]
  },
  {
   "cell_type": "markdown",
   "metadata": {},
   "source": [
    "## Pick your neuron (.swc/.csv)\n",
    "\n",
    "Here select one SWC file as an example."
   ]
  },
  {
   "cell_type": "code",
   "execution_count": 10,
   "metadata": {},
   "outputs": [],
   "source": [
    "fmost_swc_file = r\"data\\17545-6151-X24259-Y36270.swc\""
   ]
  },
  {
   "cell_type": "code",
   "execution_count": 20,
   "metadata": {},
   "outputs": [
    {
     "ename": "ValueError",
     "evalue": "Multiple somas detected in SWC file",
     "output_type": "error",
     "traceback": [
      "\u001b[1;31m---------------------------------------------------------------------------\u001b[0m",
      "\u001b[1;31mValueError\u001b[0m                                Traceback (most recent call last)",
      "Input \u001b[1;32mIn [20]\u001b[0m, in \u001b[0;36m<cell line: 3>\u001b[1;34m()\u001b[0m\n\u001b[0;32m      1\u001b[0m \u001b[38;5;28;01mfrom\u001b[39;00m \u001b[38;5;21;01mallensdk\u001b[39;00m\u001b[38;5;21;01m.\u001b[39;00m\u001b[38;5;21;01mmorphology\u001b[39;00m\u001b[38;5;21;01m.\u001b[39;00m\u001b[38;5;21;01mvalidate_swc\u001b[39;00m \u001b[38;5;28;01mimport\u001b[39;00m validate_swc\n\u001b[1;32m----> 3\u001b[0m \u001b[43mvalidate_swc\u001b[49m\u001b[43m(\u001b[49m\u001b[43mfmost_swc_file\u001b[49m\u001b[43m)\u001b[49m\n",
      "File \u001b[1;32m~\\AppData\\Roaming\\Python\\Python38\\site-packages\\allensdk\\morphology\\validate_swc.py:52\u001b[0m, in \u001b[0;36mvalidate_swc\u001b[1;34m(swc_file)\u001b[0m\n\u001b[0;32m     45\u001b[0m \u001b[38;5;124;03m\"\"\"\u001b[39;00m\n\u001b[0;32m     46\u001b[0m \u001b[38;5;124;03mTo be compatible with NEURON, SWC files must have the following properties:\u001b[39;00m\n\u001b[0;32m     47\u001b[0m \u001b[38;5;124;03m    1) a single root node with parent ID '-1'\u001b[39;00m\n\u001b[0;32m     48\u001b[0m \u001b[38;5;124;03m    2) sequentially increasing ID numbers\u001b[39;00m\n\u001b[0;32m     49\u001b[0m \u001b[38;5;124;03m    3) immediate children of the soma cannot branch\u001b[39;00m\n\u001b[0;32m     50\u001b[0m \u001b[38;5;124;03m\"\"\"\u001b[39;00m\n\u001b[0;32m     51\u001b[0m soma_id \u001b[38;5;241m=\u001b[39m swc\u001b[38;5;241m.\u001b[39mMorphology\u001b[38;5;241m.\u001b[39mSOMA\n\u001b[1;32m---> 52\u001b[0m morphology \u001b[38;5;241m=\u001b[39m \u001b[43mswc\u001b[49m\u001b[38;5;241;43m.\u001b[39;49m\u001b[43mread_swc\u001b[49m\u001b[43m(\u001b[49m\u001b[43mswc_file\u001b[49m\u001b[43m)\u001b[49m\n\u001b[0;32m     53\u001b[0m \u001b[38;5;66;03m# verify that there is a single root node\u001b[39;00m\n\u001b[0;32m     54\u001b[0m num_soma_nodes \u001b[38;5;241m=\u001b[39m \u001b[38;5;28msum\u001b[39m([(\u001b[38;5;28mint\u001b[39m(c[\u001b[38;5;124m'\u001b[39m\u001b[38;5;124mtype\u001b[39m\u001b[38;5;124m'\u001b[39m]) \u001b[38;5;241m==\u001b[39m soma_id)\n\u001b[0;32m     55\u001b[0m                       \u001b[38;5;28;01mfor\u001b[39;00m c \u001b[38;5;129;01min\u001b[39;00m morphology\u001b[38;5;241m.\u001b[39mcompartment_list])\n",
      "File \u001b[1;32m~\\AppData\\Roaming\\Python\\Python38\\site-packages\\allensdk\\core\\swc.py:113\u001b[0m, in \u001b[0;36mread_swc\u001b[1;34m(file_name, columns, numeric_columns)\u001b[0m\n\u001b[0;32m    110\u001b[0m         err \u001b[38;5;241m+\u001b[39m\u001b[38;5;241m=\u001b[39m \u001b[38;5;124m\"\u001b[39m\u001b[38;5;124mContent: \u001b[39m\u001b[38;5;124m'\u001b[39m\u001b[38;5;132;01m%s\u001b[39;00m\u001b[38;5;124m'\u001b[39m\u001b[38;5;130;01m\\n\u001b[39;00m\u001b[38;5;124m\"\u001b[39m \u001b[38;5;241m%\u001b[39m line\n\u001b[0;32m    111\u001b[0m     \u001b[38;5;28;01mraise\u001b[39;00m \u001b[38;5;167;01mIOError\u001b[39;00m(err)\n\u001b[1;32m--> 113\u001b[0m \u001b[38;5;28;01mreturn\u001b[39;00m \u001b[43mMorphology\u001b[49m\u001b[43m(\u001b[49m\u001b[43mcompartment_list\u001b[49m\u001b[38;5;241;43m=\u001b[39;49m\u001b[43mcompartments\u001b[49m\u001b[43m)\u001b[49m\n",
      "File \u001b[1;32m~\\AppData\\Roaming\\Python\\Python38\\site-packages\\allensdk\\core\\swc.py:204\u001b[0m, in \u001b[0;36mMorphology.__init__\u001b[1;34m(self, compartment_list, compartment_index)\u001b[0m\n\u001b[0;32m    202\u001b[0m \u001b[38;5;28;01mif\u001b[39;00m seg[NODE_TYPE] \u001b[38;5;241m==\u001b[39m Morphology\u001b[38;5;241m.\u001b[39mSOMA \u001b[38;5;129;01mand\u001b[39;00m seg[NODE_PN] \u001b[38;5;241m<\u001b[39m \u001b[38;5;241m0\u001b[39m:\n\u001b[0;32m    203\u001b[0m     \u001b[38;5;28;01mif\u001b[39;00m \u001b[38;5;28mself\u001b[39m\u001b[38;5;241m.\u001b[39m_soma \u001b[38;5;129;01mis\u001b[39;00m \u001b[38;5;129;01mnot\u001b[39;00m \u001b[38;5;28;01mNone\u001b[39;00m:\n\u001b[1;32m--> 204\u001b[0m         \u001b[38;5;28;01mraise\u001b[39;00m \u001b[38;5;167;01mValueError\u001b[39;00m(\u001b[38;5;124m\"\u001b[39m\u001b[38;5;124mMultiple somas detected in SWC file\u001b[39m\u001b[38;5;124m\"\u001b[39m)\n\u001b[0;32m    205\u001b[0m     \u001b[38;5;28mself\u001b[39m\u001b[38;5;241m.\u001b[39m_soma \u001b[38;5;241m=\u001b[39m seg\n",
      "\u001b[1;31mValueError\u001b[0m: Multiple somas detected in SWC file"
     ]
    }
   ],
   "source": [
    "from allensdk.morphology.validate_swc import validate_swc\n",
    "\n",
    "validate_swc(fmost_swc_file)"
   ]
  },
  {
   "cell_type": "markdown",
   "metadata": {},
   "source": [
    "## Ensure one SWC with only one soma point\n",
    "\n",
    "This is developed for current registered fMOST SWC file. It will adjusted and added as a module into neuron_morphology later."
   ]
  },
  {
   "cell_type": "code",
   "execution_count": 11,
   "metadata": {
    "scrolled": true
   },
   "outputs": [],
   "source": [
    "def prepare_neuron_tree(swc_data):\n",
    "    nodes = swc_data.to_dict('record')\n",
    "\n",
    "    replace_type = 2 # default node type\n",
    "    for node in nodes:\n",
    "        node['parent'] = int(node['parent'])\n",
    "        node['id'] = int(node['id'])\n",
    "        node['type'] = int(node['type'])\n",
    "\n",
    "        if node['parent'] == -1 and node['type'] != 1:\n",
    "            replace_type = node['type']\n",
    "\n",
    "        if node['type'] == 1 and node['parent'] != -1:\n",
    "            node['type'] = replace_type\n",
    "\n",
    "    soma_list = []\n",
    "    for node in nodes:\n",
    "        if node['type'] == 1:\n",
    "            soma_list.append(node)\n",
    "\n",
    "    # create a new soma point\n",
    "    if len(soma_list) > 1:\n",
    "        x = 0\n",
    "        y = 0\n",
    "        z = 0\n",
    "        n = len(soma_list)\n",
    "        for node in soma_list:\n",
    "            x += node['x']\n",
    "            y += node['y']\n",
    "            z += node['z']\n",
    "\n",
    "        soma = copy.deepcopy(soma_list[0])\n",
    "        soma['id'] = nodes[-1]['id']\n",
    "        soma['x'] = x/n\n",
    "        soma['y'] = y/n\n",
    "        soma['z'] = z/n\n",
    "        nodes.append(soma)\n",
    "\n",
    "        for node in soma_list:\n",
    "            node['parent'] = soma['id']\n",
    "            node['type'] = replace_type\n",
    "    \n",
    "    return nodes"
   ]
  },
  {
   "cell_type": "markdown",
   "metadata": {},
   "source": [
    "## Load SWC file as morphology data\n",
    "\n",
    "We can load the SWC file into our morphology data object and then calculate features on it."
   ]
  },
  {
   "cell_type": "code",
   "execution_count": 12,
   "metadata": {},
   "outputs": [
    {
     "name": "stderr",
     "output_type": "stream",
     "text": [
      "C:\\Users\\Ali Shenasa\\AppData\\Local\\Temp\\ipykernel_21968\\4266468474.py:2: FutureWarning: Using short name for 'orient' is deprecated. Only the options: ('dict', list, 'series', 'split', 'records', 'index') will be used in a future version. Use one of the above to silence this warning.\n",
      "  nodes = swc_data.to_dict('record')\n"
     ]
    },
    {
     "data": {
      "text/plain": [
       "Text(0.5, 1.0, 'z-y view')"
      ]
     },
     "execution_count": 12,
     "metadata": {},
     "output_type": "execute_result"
    },
    {
     "data": {
      "image/png": "[encoded data removed]",
      "text/plain": [
       "<Figure size 432x288 with 2 Axes>"
      ]
     },
     "metadata": {
      "needs_background": "light"
     },
     "output_type": "display_data"
    }
   ],
   "source": [
    "# load\n",
    "swc_data = swcio.read_swc(fmost_swc_file)\n",
    "\n",
    "nodes = prepare_neuron_tree(swc_data)\n",
    "test_data = Data(Morphology(nodes, node_id_cb=lambda node: node['id'], parent_id_cb=lambda node: node['parent']))\n",
    "\n",
    "# visualize\n",
    "x = [node['x'] for node in nodes]\n",
    "y = [node['y'] for node in nodes]\n",
    "z = [node['z'] for node in nodes]\n",
    "\n",
    "fig, ax = plt.subplots(1, 2)\n",
    "ax[0].scatter(x, y, s=0.1)\n",
    "ax[0].set_title('x-y view')\n",
    "ax[1].scatter(z, y, s=0.1)\n",
    "ax[1].set_title('z-y view')"
   ]
  },
  {
   "cell_type": "markdown",
   "metadata": {},
   "source": [
    "## Define interested features set\n",
    "\n",
    "First, we instantiate a FeatureExtractor\n",
    "Second, we will use register the default_features"
   ]
  },
  {
   "cell_type": "code",
   "execution_count": 13,
   "metadata": {
    "scrolled": true
   },
   "outputs": [
    {
     "data": {
      "text/plain": [
       "<neuron_morphology.feature_extractor.feature_extractor.FeatureExtractor at 0x2a253675910>"
      ]
     },
     "execution_count": 13,
     "metadata": {},
     "output_type": "execute_result"
    }
   ],
   "source": [
    "fe = FeatureExtractor()\n",
    "fe.register_features(default_features)"
   ]
  },
  {
   "cell_type": "markdown",
   "metadata": {},
   "source": [
    "Then, let's add a custom feature. We will use a feature included in the neurom_morphology package which calculates the number of stems exiting from the soma, by neurite type.\n",
    "\n",
    "For reference, here is the entire function:\n",
    "\n",
    "```\n",
    "@marked(RequiresSoma)  \n",
    "@marked(RequiresRoot) \n",
    "def calculate_number_of_stems(data: Data, node_types: Optional[List[int]]):\n",
    "\n",
    "    \"\"\"\n",
    "        Calculate the number of soma stems.\n",
    "        This is defined as the total number of non-soma child nodes on soma nodes.\n",
    "\n",
    "        Parameters\n",
    "        ----------\n",
    "        data: Data Object containing a morphology\n",
    "\n",
    "        node_types: list (AXON, BASAL_DENDRITE, APICAL_DENDRITE)\n",
    "        Type to restrict search to\n",
    "\n",
    "        Returns\n",
    "        -------\n",
    "\n",
    "        Scalar value\n",
    "\n",
    "    \"\"\"\n",
    "\n",
    "    soma = data.morphology.get_soma()\n",
    "    return len(data.morphology.children_of(soma))\n",
    "```\n",
    "This function has been marked to indicate that it needs a soma in order to be valid, and is also specializable based on node types. We will use the specialize() function and the NEURITE_SPECIALIZATION to tell the feature extractor to calculate this feature for each neurite_type (AXON, DENDRITE, BASAL_DENDRITE, APICAL_DENDRITE, ALL_NEURITES)"
   ]
  },
  {
   "cell_type": "code",
   "execution_count": 14,
   "metadata": {},
   "outputs": [
    {
     "data": {
      "text/plain": [
       "<neuron_morphology.feature_extractor.feature_extractor.FeatureExtractor at 0x2a253675910>"
      ]
     },
     "execution_count": 14,
     "metadata": {},
     "output_type": "execute_result"
    }
   ],
   "source": [
    "from neuron_morphology.features.soma import calculate_number_of_stems\n",
    "\n",
    "from neuron_morphology.feature_extractor.marked_feature import specialize\n",
    "from neuron_morphology.feature_extractor.feature_specialization import NEURITE_SPECIALIZATIONS\n",
    "\n",
    "fe.register_features([specialize(calculate_number_of_stems, NEURITE_SPECIALIZATIONS)])"
   ]
  },
  {
   "cell_type": "markdown",
   "metadata": {},
   "source": [
    "### Extracting features\n",
    "\n",
    "Now that we have registered the features that we are interested in, we can call feature extractor on our swc. This will create a dictionary of results, which we can unnest and print below. \n",
    "\n",
    "Calling fe.extract() on another test_data will calculate the same feature set, so it can be used to process many swcs."
   ]
  },
  {
   "cell_type": "code",
   "execution_count": 15,
   "metadata": {},
   "outputs": [
    {
     "name": "stderr",
     "output_type": "stream",
     "text": [
      "2022-07-11 12:45:28,921 root         INFO     skipping mark (validation failed): type\n",
      "2022-07-11 12:45:28,923 root         INFO     skipping mark (validation failed): type\n",
      "2022-07-11 12:45:28,928 root         INFO     skipping mark (validation failed): type\n",
      "C:\\Users\\Public\\Anaconda3\\envs\\neuronSim\\lib\\site-packages\\neuron_morphology\\feature_extractor\\mark.py:117: UserWarning: This morphology is not uniquely rooted! Found 279 root nodes. Features using the root node of this morphology may not select that node consistently. Some or all of these root nodes may not be soma nodes.\n",
      "  warnings.warn(\n",
      "2022-07-11 12:45:28,935 root         INFO     selected marks: <bound method FeatureExtractionRun.select_marks of <neuron_morphology.feature_extractor.feature_extraction_run.FeatureExtractionRun object at 0x000002A25367B970>>\n",
      "2022-07-11 12:45:28,936 root         INFO     skipping feature: apical_dendrite.tip.dimension. Found extra marks: ['RequiresApical']\n",
      "2022-07-11 12:45:28,937 root         INFO     skipping feature: apical_dendrite.bifurcation.dimension. Found extra marks: ['RequiresApical']\n",
      "2022-07-11 12:45:28,938 root         INFO     skipping feature: apical_dendrite.node.dimension. Found extra marks: ['RequiresApical']\n",
      "2022-07-11 12:45:28,939 root         INFO     skipping feature: apical_dendrite.compartment.dimension. Found extra marks: ['RequiresApical']\n",
      "2022-07-11 12:45:28,942 root         INFO     skipping feature: apical_dendrite.num_nodes. Found extra marks: ['RequiresApical']\n",
      "2022-07-11 12:45:28,943 root         INFO     skipping feature: apical_dendrite.num_branches. Found extra marks: ['RequiresApical']\n",
      "2022-07-11 12:45:28,944 root         INFO     skipping feature: apical_dendrite.num_tips. Found extra marks: ['RequiresApical']\n",
      "2022-07-11 12:45:28,945 root         INFO     skipping feature: apical_dendrite.mean_fragmentation. Found extra marks: ['RequiresApical']\n",
      "2022-07-11 12:45:28,947 root         INFO     skipping feature: apical_dendrite.max_branch_order. Found extra marks: ['RequiresApical']\n",
      "2022-07-11 12:45:28,947 root         INFO     skipping feature: apical_dendrite.num_outer_bifurcations. Found extra marks: ['RequiresApical']\n",
      "2022-07-11 12:45:28,949 root         INFO     skipping feature: apical_dendrite.mean_bifurcation_angle_local. Found extra marks: ['RequiresApical']\n",
      "2022-07-11 12:45:28,950 root         INFO     skipping feature: apical_dendrite.mean_bifurcation_angle_remote. Found extra marks: ['RequiresApical']\n",
      "2022-07-11 12:45:28,951 root         INFO     skipping feature: apical_dendrite.total_length. Found extra marks: ['RequiresApical']\n",
      "2022-07-11 12:45:28,951 root         INFO     skipping feature: apical_dendrite.total_surface_area. Found extra marks: ['RequiresApical']\n",
      "2022-07-11 12:45:28,954 root         INFO     skipping feature: apical_dendrite.total_volume. Found extra marks: ['RequiresApical']\n",
      "2022-07-11 12:45:28,955 root         INFO     skipping feature: apical_dendrite.mean_diameter. Found extra marks: ['RequiresApical']\n",
      "2022-07-11 12:45:28,956 root         INFO     skipping feature: apical_dendrite.mean_parent_daughter_ratio. Found extra marks: ['RequiresApical']\n",
      "2022-07-11 12:45:28,957 root         INFO     skipping feature: apical_dendrite.max_euclidean_distance. Found extra marks: ['RequiresApical']\n",
      "2022-07-11 12:45:28,959 root         INFO     skipping feature: apical_dendrite.apical_dendrite.overlap. Found extra marks: ['RequiresApical']\n",
      "2022-07-11 12:45:28,960 root         INFO     skipping feature: basal_dendrite.apical_dendrite.overlap. Found extra marks: ['RequiresApical']\n",
      "2022-07-11 12:45:28,961 root         INFO     skipping feature: axon.apical_dendrite.overlap. Found extra marks: ['RequiresApical']\n",
      "2022-07-11 12:45:28,961 root         INFO     skipping feature: dendrite.apical_dendrite.overlap. Found extra marks: ['RequiresApical']\n",
      "2022-07-11 12:45:28,962 root         INFO     skipping feature: apical_dendrite.axon.overlap. Found extra marks: ['RequiresApical']\n",
      "2022-07-11 12:45:28,963 root         INFO     skipping feature: apical_dendrite.dendrite.overlap. Found extra marks: ['RequiresApical']\n",
      "2022-07-11 12:45:28,964 root         INFO     skipping feature: apical_dendrite.basal_dendrite.overlap. Found extra marks: ['RequiresApical']\n",
      "2022-07-11 12:45:28,965 root         INFO     skipping feature: apical_dendrite.tip.moments. Found extra marks: ['RequiresApical']\n",
      "2022-07-11 12:45:28,967 root         INFO     skipping feature: apical_dendrite.bifurcation.moments. Found extra marks: ['RequiresApical']\n",
      "2022-07-11 12:45:28,967 root         INFO     skipping feature: apical_dendrite.node.moments. Found extra marks: ['RequiresApical']\n",
      "2022-07-11 12:45:28,968 root         INFO     skipping feature: apical_dendrite.compartment.moments. Found extra marks: ['RequiresApical']\n",
      "2022-07-11 12:45:28,969 root         INFO     skipping feature: dendrite.normalized_depth_histogram. Found extra marks: ['RequiresLayeredPointDepths', 'RequiresReferenceLayerDepths']\n",
      "2022-07-11 12:45:28,971 root         INFO     skipping feature: apical_dendrite.normalized_depth_histogram. Found extra marks: ['RequiresApical', 'RequiresLayeredPointDepths', 'RequiresReferenceLayerDepths']\n",
      "2022-07-11 12:45:28,971 root         INFO     skipping feature: axon.normalized_depth_histogram. Found extra marks: ['RequiresLayeredPointDepths', 'RequiresReferenceLayerDepths']\n",
      "2022-07-11 12:45:28,972 root         INFO     skipping feature: basal_dendrite.normalized_depth_histogram. Found extra marks: ['RequiresLayeredPointDepths', 'RequiresReferenceLayerDepths']\n",
      "2022-07-11 12:45:28,973 root         INFO     skipping feature: all_neurites.normalized_depth_histogram. Found extra marks: ['RequiresLayeredPointDepths', 'RequiresReferenceLayerDepths']\n",
      "2022-07-11 12:45:28,975 root         INFO     skipping feature: apical_dendrite.apical_dendrite.earth_movers_distance. Found extra marks: ['RequiresApical', 'RequiresReferenceLayerDepths', 'RequiresLayeredPointDepths']\n",
      "2022-07-11 12:45:28,975 root         INFO     skipping feature: basal_dendrite.apical_dendrite.earth_movers_distance. Found extra marks: ['RequiresApical', 'RequiresReferenceLayerDepths', 'RequiresLayeredPointDepths']\n",
      "2022-07-11 12:45:28,976 root         INFO     skipping feature: axon.apical_dendrite.earth_movers_distance. Found extra marks: ['RequiresApical', 'RequiresReferenceLayerDepths', 'RequiresLayeredPointDepths']\n",
      "2022-07-11 12:45:28,977 root         INFO     skipping feature: dendrite.apical_dendrite.earth_movers_distance. Found extra marks: ['RequiresApical', 'RequiresReferenceLayerDepths', 'RequiresLayeredPointDepths']\n",
      "2022-07-11 12:45:28,978 root         INFO     skipping feature: apical_dendrite.axon.earth_movers_distance. Found extra marks: ['RequiresApical', 'RequiresReferenceLayerDepths', 'RequiresLayeredPointDepths']\n",
      "2022-07-11 12:45:28,979 root         INFO     skipping feature: basal_dendrite.axon.earth_movers_distance. Found extra marks: ['RequiresReferenceLayerDepths', 'RequiresLayeredPointDepths']\n",
      "2022-07-11 12:45:28,981 root         INFO     skipping feature: axon.axon.earth_movers_distance. Found extra marks: ['RequiresReferenceLayerDepths', 'RequiresLayeredPointDepths']\n",
      "2022-07-11 12:45:28,981 root         INFO     skipping feature: dendrite.axon.earth_movers_distance. Found extra marks: ['RequiresReferenceLayerDepths', 'RequiresLayeredPointDepths']\n",
      "2022-07-11 12:45:28,983 root         INFO     skipping feature: apical_dendrite.dendrite.earth_movers_distance. Found extra marks: ['RequiresApical', 'RequiresReferenceLayerDepths', 'RequiresLayeredPointDepths']\n",
      "2022-07-11 12:45:28,983 root         INFO     skipping feature: basal_dendrite.dendrite.earth_movers_distance. Found extra marks: ['RequiresReferenceLayerDepths', 'RequiresLayeredPointDepths']\n",
      "2022-07-11 12:45:28,984 root         INFO     skipping feature: axon.dendrite.earth_movers_distance. Found extra marks: ['RequiresReferenceLayerDepths', 'RequiresLayeredPointDepths']\n",
      "2022-07-11 12:45:28,985 root         INFO     skipping feature: dendrite.dendrite.earth_movers_distance. Found extra marks: ['RequiresReferenceLayerDepths', 'RequiresLayeredPointDepths']\n",
      "2022-07-11 12:45:28,986 root         INFO     skipping feature: apical_dendrite.basal_dendrite.earth_movers_distance. Found extra marks: ['RequiresApical', 'RequiresReferenceLayerDepths', 'RequiresLayeredPointDepths']\n"
     ]
    },
    {
     "name": "stderr",
     "output_type": "stream",
     "text": [
      "2022-07-11 12:45:28,987 root         INFO     skipping feature: basal_dendrite.basal_dendrite.earth_movers_distance. Found extra marks: ['RequiresReferenceLayerDepths', 'RequiresLayeredPointDepths']\n",
      "2022-07-11 12:45:28,988 root         INFO     skipping feature: axon.basal_dendrite.earth_movers_distance. Found extra marks: ['RequiresReferenceLayerDepths', 'RequiresLayeredPointDepths']\n",
      "2022-07-11 12:45:28,989 root         INFO     skipping feature: dendrite.basal_dendrite.earth_movers_distance. Found extra marks: ['RequiresReferenceLayerDepths', 'RequiresLayeredPointDepths']\n",
      "2022-07-11 12:45:28,990 root         INFO     skipping feature: apical_dendrite.calculate_number_of_stems. Found extra marks: ['RequiresApical']\n",
      "2022-07-11 12:45:28,991 root         INFO     selected features: ['dendrite.tip.dimension', 'axon.tip.dimension', 'basal_dendrite.tip.dimension', 'all_neurites.tip.dimension', 'dendrite.bifurcation.dimension', 'axon.bifurcation.dimension', 'basal_dendrite.bifurcation.dimension', 'all_neurites.bifurcation.dimension', 'dendrite.node.dimension', 'axon.node.dimension', 'basal_dendrite.node.dimension', 'all_neurites.node.dimension', 'dendrite.compartment.dimension', 'axon.compartment.dimension', 'basal_dendrite.compartment.dimension', 'all_neurites.compartment.dimension', 'dendrite.num_nodes', 'axon.num_nodes', 'basal_dendrite.num_nodes', 'all_neurites.num_nodes', 'dendrite.num_branches', 'axon.num_branches', 'basal_dendrite.num_branches', 'all_neurites.num_branches', 'dendrite.num_tips', 'axon.num_tips', 'basal_dendrite.num_tips', 'all_neurites.num_tips', 'dendrite.mean_fragmentation', 'axon.mean_fragmentation', 'basal_dendrite.mean_fragmentation', 'all_neurites.mean_fragmentation', 'dendrite.max_branch_order', 'axon.max_branch_order', 'basal_dendrite.max_branch_order', 'all_neurites.max_branch_order', 'dendrite.num_outer_bifurcations', 'axon.num_outer_bifurcations', 'basal_dendrite.num_outer_bifurcations', 'all_neurites.num_outer_bifurcations', 'dendrite.mean_bifurcation_angle_local', 'axon.mean_bifurcation_angle_local', 'basal_dendrite.mean_bifurcation_angle_local', 'all_neurites.mean_bifurcation_angle_local', 'dendrite.mean_bifurcation_angle_remote', 'axon.mean_bifurcation_angle_remote', 'basal_dendrite.mean_bifurcation_angle_remote', 'all_neurites.mean_bifurcation_angle_remote', 'dendrite.total_length', 'axon.total_length', 'basal_dendrite.total_length', 'all_neurites.total_length', 'dendrite.total_surface_area', 'axon.total_surface_area', 'basal_dendrite.total_surface_area', 'all_neurites.total_surface_area', 'dendrite.total_volume', 'axon.total_volume', 'basal_dendrite.total_volume', 'all_neurites.total_volume', 'dendrite.mean_diameter', 'axon.mean_diameter', 'basal_dendrite.mean_diameter', 'all_neurites.mean_diameter', 'dendrite.mean_parent_daughter_ratio', 'axon.mean_parent_daughter_ratio', 'basal_dendrite.mean_parent_daughter_ratio', 'all_neurites.mean_parent_daughter_ratio', 'dendrite.max_euclidean_distance', 'axon.max_euclidean_distance', 'basal_dendrite.max_euclidean_distance', 'all_neurites.max_euclidean_distance', 'max_path_distance', 'early_branch_path', 'mean_contraction', 'basal_dendrite.axon.overlap', 'axon.axon.overlap', 'dendrite.axon.overlap', 'basal_dendrite.dendrite.overlap', 'axon.dendrite.overlap', 'dendrite.dendrite.overlap', 'basal_dendrite.basal_dendrite.overlap', 'axon.basal_dendrite.overlap', 'dendrite.basal_dendrite.overlap', 'dendrite.tip.moments', 'axon.tip.moments', 'basal_dendrite.tip.moments', 'all_neurites.tip.moments', 'dendrite.bifurcation.moments', 'axon.bifurcation.moments', 'basal_dendrite.bifurcation.moments', 'all_neurites.bifurcation.moments', 'dendrite.node.moments', 'axon.node.moments', 'basal_dendrite.node.moments', 'all_neurites.node.moments', 'dendrite.compartment.moments', 'axon.compartment.moments', 'basal_dendrite.compartment.moments', 'all_neurites.compartment.moments', 'dendrite.calculate_number_of_stems', 'axon.calculate_number_of_stems', 'basal_dendrite.calculate_number_of_stems', 'all_neurites.calculate_number_of_stems']\n",
      "2022-07-11 12:45:30,006 root         WARNING  feature extraction failed for dendrite.mean_fragmentation\n"
     ]
    },
    {
     "ename": "ZeroDivisionError",
     "evalue": "division by zero",
     "output_type": "error",
     "traceback": [
      "\u001b[1;31m---------------------------------------------------------------------------\u001b[0m",
      "\u001b[1;31mZeroDivisionError\u001b[0m                         Traceback (most recent call last)",
      "Input \u001b[1;32mIn [15]\u001b[0m, in \u001b[0;36m<cell line: 1>\u001b[1;34m()\u001b[0m\n\u001b[1;32m----> 1\u001b[0m feature_extraction_run \u001b[38;5;241m=\u001b[39m \u001b[43mfe\u001b[49m\u001b[38;5;241;43m.\u001b[39;49m\u001b[43mextract\u001b[49m\u001b[43m(\u001b[49m\u001b[43mtest_data\u001b[49m\u001b[43m)\u001b[49m\n\u001b[0;32m      2\u001b[0m results \u001b[38;5;241m=\u001b[39m feature_extraction_run\u001b[38;5;241m.\u001b[39mresults\n\u001b[0;32m      3\u001b[0m \u001b[38;5;28;01mfrom\u001b[39;00m \u001b[38;5;21;01mneuron_morphology\u001b[39;00m\u001b[38;5;21;01m.\u001b[39;00m\u001b[38;5;21;01mfeature_extractor\u001b[39;00m\u001b[38;5;21;01m.\u001b[39;00m\u001b[38;5;21;01mutilities\u001b[39;00m \u001b[38;5;28;01mimport\u001b[39;00m unnest\n",
      "File \u001b[1;32mC:\\Users\\Public\\Anaconda3\\envs\\neuronSim\\lib\\site-packages\\neuron_morphology\\feature_extractor\\feature_extractor.py:90\u001b[0m, in \u001b[0;36mFeatureExtractor.extract\u001b[1;34m(self, data, only_marks, required_marks)\u001b[0m\n\u001b[0;32m     67\u001b[0m \u001b[38;5;28;01mdef\u001b[39;00m \u001b[38;5;21mextract\u001b[39m(\n\u001b[0;32m     68\u001b[0m     \u001b[38;5;28mself\u001b[39m,\n\u001b[0;32m     69\u001b[0m     data: Data,\n\u001b[0;32m     70\u001b[0m     only_marks: Optional[AbstractSet[Type[Mark]]] \u001b[38;5;241m=\u001b[39m \u001b[38;5;28;01mNone\u001b[39;00m,\n\u001b[0;32m     71\u001b[0m     required_marks: AbstractSet[Type[Mark]] \u001b[38;5;241m=\u001b[39m \u001b[38;5;28mfrozenset\u001b[39m()\n\u001b[0;32m     72\u001b[0m ) \u001b[38;5;241m-\u001b[39m\u001b[38;5;241m>\u001b[39m FeatureExtractionRun:\n\u001b[0;32m     73\u001b[0m     \u001b[38;5;124;03m\"\"\" Run the feature extractor for a single dataset\u001b[39;00m\n\u001b[0;32m     74\u001b[0m \n\u001b[0;32m     75\u001b[0m \u001b[38;5;124;03m    Parameters\u001b[39;00m\n\u001b[1;32m   (...)\u001b[0m\n\u001b[0;32m     86\u001b[0m \n\u001b[0;32m     87\u001b[0m \u001b[38;5;124;03m    \"\"\"\u001b[39;00m\n\u001b[0;32m     89\u001b[0m     \u001b[38;5;28;01mreturn\u001b[39;00m (\n\u001b[1;32m---> 90\u001b[0m         \u001b[43mFeatureExtractionRun\u001b[49m\u001b[43m(\u001b[49m\u001b[43mdata\u001b[49m\u001b[43m)\u001b[49m\n\u001b[0;32m     91\u001b[0m \u001b[43m            \u001b[49m\u001b[38;5;241;43m.\u001b[39;49m\u001b[43mselect_marks\u001b[49m\u001b[43m(\u001b[49m\n\u001b[0;32m     92\u001b[0m \u001b[43m                \u001b[49m\u001b[38;5;28;43mself\u001b[39;49m\u001b[38;5;241;43m.\u001b[39;49m\u001b[43mmarks\u001b[49m\u001b[43m,\u001b[49m\n\u001b[0;32m     93\u001b[0m \u001b[43m                \u001b[49m\u001b[43mrequired_marks\u001b[49m\u001b[38;5;241;43m=\u001b[39;49m\u001b[43mrequired_marks\u001b[49m\n\u001b[0;32m     94\u001b[0m \u001b[43m            \u001b[49m\u001b[43m)\u001b[49m\n\u001b[0;32m     95\u001b[0m \u001b[43m            \u001b[49m\u001b[38;5;241;43m.\u001b[39;49m\u001b[43mselect_features\u001b[49m\u001b[43m(\u001b[49m\n\u001b[0;32m     96\u001b[0m \u001b[43m                \u001b[49m\u001b[38;5;28;43mself\u001b[39;49m\u001b[38;5;241;43m.\u001b[39;49m\u001b[43mfeatures\u001b[49m\u001b[43m,\u001b[49m\n\u001b[0;32m     97\u001b[0m \u001b[43m                \u001b[49m\u001b[43monly_marks\u001b[49m\u001b[38;5;241;43m=\u001b[39;49m\u001b[43monly_marks\u001b[49m\n\u001b[0;32m     98\u001b[0m \u001b[43m            \u001b[49m\u001b[43m)\u001b[49m\n\u001b[0;32m     99\u001b[0m \u001b[43m            \u001b[49m\u001b[38;5;241;43m.\u001b[39;49m\u001b[43mextract\u001b[49m\u001b[43m(\u001b[49m\u001b[43m)\u001b[49m\n\u001b[0;32m    100\u001b[0m     )\n",
      "File \u001b[1;32mC:\\Users\\Public\\Anaconda3\\envs\\neuronSim\\lib\\site-packages\\neuron_morphology\\feature_extractor\\feature_extraction_run.py:112\u001b[0m, in \u001b[0;36mFeatureExtractionRun.extract\u001b[1;34m(self)\u001b[0m\n\u001b[0;32m    110\u001b[0m \u001b[38;5;28;01mfor\u001b[39;00m feature \u001b[38;5;129;01min\u001b[39;00m \u001b[38;5;28mself\u001b[39m\u001b[38;5;241m.\u001b[39mselected_features:\n\u001b[0;32m    111\u001b[0m     \u001b[38;5;28;01mtry\u001b[39;00m:\n\u001b[1;32m--> 112\u001b[0m         \u001b[38;5;28mself\u001b[39m\u001b[38;5;241m.\u001b[39mresults[feature\u001b[38;5;241m.\u001b[39mname] \u001b[38;5;241m=\u001b[39m \u001b[43mfeature\u001b[49m\u001b[43m(\u001b[49m\u001b[38;5;28;43mself\u001b[39;49m\u001b[38;5;241;43m.\u001b[39;49m\u001b[43mdata\u001b[49m\u001b[43m)\u001b[49m\n\u001b[0;32m    113\u001b[0m     \u001b[38;5;28;01mexcept\u001b[39;00m:\n\u001b[0;32m    114\u001b[0m         logging\u001b[38;5;241m.\u001b[39mwarning(\u001b[38;5;124mf\u001b[39m\u001b[38;5;124m\"\u001b[39m\u001b[38;5;124mfeature extraction failed for \u001b[39m\u001b[38;5;132;01m{\u001b[39;00mfeature\u001b[38;5;241m.\u001b[39mname\u001b[38;5;132;01m}\u001b[39;00m\u001b[38;5;124m\"\u001b[39m)\n",
      "File \u001b[1;32mC:\\Users\\Public\\Anaconda3\\envs\\neuronSim\\lib\\site-packages\\neuron_morphology\\feature_extractor\\marked_feature.py:83\u001b[0m, in \u001b[0;36mMarkedFeature.__call__\u001b[1;34m(self, *args, **kwargs)\u001b[0m\n\u001b[0;32m     79\u001b[0m \u001b[38;5;28;01mdef\u001b[39;00m \u001b[38;5;21m__call__\u001b[39m(\u001b[38;5;28mself\u001b[39m, \u001b[38;5;241m*\u001b[39margs, \u001b[38;5;241m*\u001b[39m\u001b[38;5;241m*\u001b[39mkwargs):\n\u001b[0;32m     80\u001b[0m     \u001b[38;5;124;03m\"\"\" Execute the underlying feature, passing along all arguments\u001b[39;00m\n\u001b[0;32m     81\u001b[0m \u001b[38;5;124;03m    \"\"\"\u001b[39;00m\n\u001b[1;32m---> 83\u001b[0m     \u001b[38;5;28;01mreturn\u001b[39;00m \u001b[38;5;28;43mself\u001b[39;49m\u001b[38;5;241;43m.\u001b[39;49m\u001b[43mfeature\u001b[49m\u001b[43m(\u001b[49m\u001b[38;5;241;43m*\u001b[39;49m\u001b[43margs\u001b[49m\u001b[43m,\u001b[49m\u001b[43m \u001b[49m\u001b[38;5;241;43m*\u001b[39;49m\u001b[38;5;241;43m*\u001b[39;49m\u001b[43mkwargs\u001b[49m\u001b[43m)\u001b[49m\n",
      "File \u001b[1;32mC:\\Users\\Public\\Anaconda3\\envs\\neuronSim\\lib\\site-packages\\neuron_morphology\\features\\intrinsic.py:208\u001b[0m, in \u001b[0;36mmean_fragmentation\u001b[1;34m(data, node_types)\u001b[0m\n\u001b[0;32m    205\u001b[0m num_compartments \u001b[38;5;241m=\u001b[39m \u001b[38;5;241m0\u001b[39m\n\u001b[0;32m    206\u001b[0m \u001b[38;5;28;01mfor\u001b[39;00m root \u001b[38;5;129;01min\u001b[39;00m roots:\n\u001b[0;32m    207\u001b[0m     (_, local_branches, local_compartments) \u001b[38;5;241m=\u001b[39m \\\n\u001b[1;32m--> 208\u001b[0m         \u001b[43mcalculate_mean_fragmentation_from_root\u001b[49m\u001b[43m(\u001b[49m\n\u001b[0;32m    209\u001b[0m \u001b[43m            \u001b[49m\u001b[43mmorphology\u001b[49m\u001b[43m,\u001b[49m\u001b[43m \u001b[49m\u001b[43mroot\u001b[49m\u001b[43m,\u001b[49m\u001b[43m \u001b[49m\u001b[43mnode_types\u001b[49m\u001b[38;5;241;43m=\u001b[39;49m\u001b[43mnode_types\u001b[49m\u001b[43m)\u001b[49m\n\u001b[0;32m    211\u001b[0m     num_branches \u001b[38;5;241m+\u001b[39m\u001b[38;5;241m=\u001b[39m local_branches\n\u001b[0;32m    212\u001b[0m     num_compartments \u001b[38;5;241m+\u001b[39m\u001b[38;5;241m=\u001b[39m local_compartments\n",
      "File \u001b[1;32mC:\\Users\\Public\\Anaconda3\\envs\\neuronSim\\lib\\site-packages\\neuron_morphology\\features\\intrinsic.py:180\u001b[0m, in \u001b[0;36mcalculate_mean_fragmentation_from_root\u001b[1;34m(morphology, root, node_types)\u001b[0m\n\u001b[0;32m    173\u001b[0m neighbor_cb \u001b[38;5;241m=\u001b[39m partial(child_ids_by_type,\n\u001b[0;32m    174\u001b[0m                       morphology\u001b[38;5;241m=\u001b[39mmorphology,\n\u001b[0;32m    175\u001b[0m                       node_types\u001b[38;5;241m=\u001b[39mnode_types)\n\u001b[0;32m    176\u001b[0m morphology\u001b[38;5;241m.\u001b[39mbreadth_first_traversal(visitor,\n\u001b[0;32m    177\u001b[0m                                    start_id\u001b[38;5;241m=\u001b[39mmorphology\u001b[38;5;241m.\u001b[39mnode_id_cb(root),\n\u001b[0;32m    178\u001b[0m                                    neighbor_cb\u001b[38;5;241m=\u001b[39mneighbor_cb)\n\u001b[1;32m--> 180\u001b[0m mean_fragmentation \u001b[38;5;241m=\u001b[39m \u001b[43mcounter\u001b[49m\u001b[43m[\u001b[49m\u001b[38;5;124;43m'\u001b[39;49m\u001b[38;5;124;43mnum_compartments\u001b[39;49m\u001b[38;5;124;43m'\u001b[39;49m\u001b[43m]\u001b[49m\u001b[43m \u001b[49m\u001b[38;5;241;43m/\u001b[39;49m\u001b[43m \u001b[49m\u001b[43mcounter\u001b[49m\u001b[43m[\u001b[49m\u001b[38;5;124;43m'\u001b[39;49m\u001b[38;5;124;43mnum_branches\u001b[39;49m\u001b[38;5;124;43m'\u001b[39;49m\u001b[43m]\u001b[49m\n\u001b[0;32m    181\u001b[0m \u001b[38;5;28;01mreturn\u001b[39;00m (mean_fragmentation,\n\u001b[0;32m    182\u001b[0m         counter[\u001b[38;5;124m'\u001b[39m\u001b[38;5;124mnum_branches\u001b[39m\u001b[38;5;124m'\u001b[39m],\n\u001b[0;32m    183\u001b[0m         counter[\u001b[38;5;124m'\u001b[39m\u001b[38;5;124mnum_compartments\u001b[39m\u001b[38;5;124m'\u001b[39m])\n",
      "\u001b[1;31mZeroDivisionError\u001b[0m: division by zero"
     ]
    }
   ],
   "source": [
    "feature_extraction_run = fe.extract(test_data)\n",
    "results = feature_extraction_run.results\n",
    "from neuron_morphology.feature_extractor.utilities import unnest\n",
    "unnest(results)\n"
   ]
  },
  {
   "cell_type": "markdown",
   "metadata": {},
   "source": [
    "##### Save the features as h5 or csv file\n",
    "\n",
    "We can also write these features to a file using the FeatureWriter. The FeatureWriter can write the features as a nested json or as a flat csv. If a feature returns a large amount of data, it can be output to a h5 file instead."
   ]
  },
  {
   "cell_type": "code",
   "execution_count": null,
   "metadata": {},
   "outputs": [],
   "source": [
    "heavy_path = \"test_features.h5\"\n",
    "table_path = \"test_features.csv\"\n",
    "\n",
    "features_writer = fw.FeatureWriter(heavy_path, table_path)\n",
    "features_writer.add_run(\"test\", feature_extraction_run.serialize())\n",
    "features_writer.write_table()"
   ]
  },
  {
   "cell_type": "code",
   "execution_count": null,
   "metadata": {},
   "outputs": [],
   "source": []
  }
 ],
 "metadata": {
  "kernelspec": {
   "display_name": "Python 3 (ipykernel)",
   "language": "python",
   "name": "python3"
  },
  "language_info": {
   "codemirror_mode": {
    "name": "ipython",
    "version": 3
   },
   "file_extension": ".py",
   "mimetype": "text/x-python",
   "name": "python",
   "nbconvert_exporter": "python",
   "pygments_lexer": "ipython3",
   "version": "3.8.13"
  }
 },
 "nbformat": 4,
 "nbformat_minor": 4
}
